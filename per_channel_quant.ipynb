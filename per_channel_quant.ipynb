{
 "cells": [
  {
   "cell_type": "code",
   "execution_count": 1,
   "id": "a861009a",
   "metadata": {},
   "outputs": [],
   "source": [
    "import torch"
   ]
  },
  {
   "cell_type": "code",
   "execution_count": 187,
   "id": "ab3f2305",
   "metadata": {},
   "outputs": [],
   "source": [
    "def quantize_tensor(tensor,dtype=torch.int8):\n",
    "    r_max = tensor.max()\n",
    "    r_min = tensor.min()\n",
    "    tensor_dtype = tensor.dtype\n",
    "    q_max = torch.iinfo(dtype).max\n",
    "    q_min = torch.iinfo(dtype).min\n",
    "    #scale must be in higher precision\n",
    "    if q_max - q_min == 0:\n",
    "        q_max += 1e-9\n",
    "    scale = torch.tensor((r_max-r_min)/(q_max-q_min),dtype=tensor_dtype)\n",
    "    zero = int(torch.round(q_min - (r_min/scale)))\n",
    "    if zero > q_max:\n",
    "        zero = q_max\n",
    "    if zero < q_min:\n",
    "        zero = q_min\n",
    "    q_tensor = tensor/scale + zero\n",
    "    rounded_tensor = torch.round(q_tensor)\n",
    "    rounded_tensor = rounded_tensor.clamp(q_min,q_max).to(dtype)\n",
    "    return rounded_tensor,scale,zero"
   ]
  },
  {
   "cell_type": "code",
   "execution_count": 149,
   "id": "d3bf1d80",
   "metadata": {},
   "outputs": [],
   "source": [
    "def de_quantize(tensor,scale,zero,dtype=torch.float32):\n",
    "    deq_tensor = scale * (tensor.float() - zero)\n",
    "    return deq_tensor"
   ]
  },
  {
   "cell_type": "code",
   "execution_count": 150,
   "id": "049e9a1a",
   "metadata": {},
   "outputs": [],
   "source": [
    "def sym_quant(tensor,dtype):\n",
    "    r_max = tensor.abs().max()\n",
    "    q_min,q_max = torch.iinfo(dtype).min,torch.iinfo(dtype).max\n",
    "    scale = r_max/q_max\n",
    "    q_t =  tensor/scale\n",
    "    q_t = torch.round(q_t).to(dtype)\n",
    "    return q_t,scale"
   ]
  },
  {
   "cell_type": "code",
   "execution_count": 154,
   "id": "8e9a5370",
   "metadata": {},
   "outputs": [],
   "source": [
    "def per_channel_sym_quant(tensor,dim,dtype=torch.int8):\n",
    "    output_dim = tensor.shape[dim]\n",
    "    qs,scales,zeros= [],[],[]\n",
    "    for index in range(output_dim):\n",
    "        sub_tensor = tensor.select(dim,index)\n",
    "        q,s,z = quantize_tensor(sub_tensor,dtype)\n",
    "        qs.append(q)\n",
    "        scales.append(s)\n",
    "        zeros.append(0)\n",
    "    qs = torch.stack(qs,dim)\n",
    "    return qs,scales,zeros"
   ]
  },
  {
   "cell_type": "code",
   "execution_count": 4,
   "id": "869ecf44",
   "metadata": {},
   "outputs": [],
   "source": [
    "def per_channel_quant(tensor,dim,dtype=torch.int8):\n",
    "    output_dim = tensor.shape[dim]\n",
    "    qs,scales,zeros = [],[],[]\n",
    "    for index in range(output_dim):\n",
    "        sub_tensor = tensor.select(dim,index)\n",
    "        q,s,z = quantize_tensor(sub_tensor,dtype)\n",
    "        qs.append(q)\n",
    "        scales.append(s)\n",
    "        zeros.append(z)\n",
    "    qs = torch.stack(qs,dim)\n",
    "    return qs,scales,zeros"
   ]
  },
  {
   "cell_type": "code",
   "execution_count": 5,
   "id": "97b05b19",
   "metadata": {},
   "outputs": [],
   "source": [
    "def per_channel_de_quant(tensor,scales,zeros,dim,dtype=torch.float32):\n",
    "    output_dim = tensor.shape[dim]\n",
    "    de_qs = []\n",
    "    for index in range(output_dim):\n",
    "        sub_tensor = tensor.select(dim,index)\n",
    "        de_q = de_quantize(sub_tensor,scales[index],zeros[index],dtype)\n",
    "        de_qs.append(de_q)\n",
    "    de_qs = torch.stack(de_qs,dim)\n",
    "    return de_qs"
   ]
  },
  {
   "cell_type": "markdown",
   "id": "d91ba157",
   "metadata": {},
   "source": [
    "### dim =0"
   ]
  },
  {
   "cell_type": "code",
   "execution_count": 240,
   "id": "1f7c170f",
   "metadata": {},
   "outputs": [
    {
     "name": "stderr",
     "output_type": "stream",
     "text": [
      "/var/folders/xw/knd54pd91c7cw57n21dntvx80000gn/T/ipykernel_24751/3746070839.py:10: UserWarning: To copy construct from a tensor, it is recommended to use sourceTensor.clone().detach() or sourceTensor.clone().detach().requires_grad_(True), rather than torch.tensor(sourceTensor).\n",
      "  scale = torch.tensor((r_max-r_min)/(q_max-q_min),dtype=tensor_dtype)\n"
     ]
    }
   ],
   "source": [
    "dim_0 = 0\n",
    "z = torch.randint(low=-600,high=600,size=(8,8)) + torch.randn((8,8))\n",
    "q_z_0,scales_0,zeros_0 = per_channel_quant(z,dim_0,dtype=torch.int8)"
   ]
  },
  {
   "cell_type": "code",
   "execution_count": 241,
   "id": "324c68f6",
   "metadata": {},
   "outputs": [
    {
     "data": {
      "text/plain": [
       "tensor([[ 127, -100,   44, -109,   70,  125,  -41, -128],\n",
       "        [ -29,   10, -112,    5,  -35,  127, -128,   66],\n",
       "        [  70,  119, -128,  -41,   48,  -52,  -53,  127],\n",
       "        [ -20,  -34,  127, -128,  120,  -58,   -4, -124],\n",
       "        [  56,  -23, -128,    0,  -42, -115,   40,  127],\n",
       "        [  45,  -71, -128,  127,   34,  -58,   94,   90],\n",
       "        [  45,  -72,  127,   51,  -50,  -96, -128, -109],\n",
       "        [-106,  -88,  -70,   54,  127,  -74,  -26, -128]], dtype=torch.int8)"
      ]
     },
     "execution_count": 241,
     "metadata": {},
     "output_type": "execute_result"
    }
   ],
   "source": [
    "q_z_0"
   ]
  },
  {
   "cell_type": "code",
   "execution_count": 242,
   "id": "0723841e",
   "metadata": {},
   "outputs": [],
   "source": [
    "de_q_z_0 = per_channel_de_quant(q_z_0,scales_0,zeros_0,dim_0)"
   ]
  },
  {
   "cell_type": "code",
   "execution_count": 243,
   "id": "8122c5dc",
   "metadata": {},
   "outputs": [
    {
     "data": {
      "text/plain": [
       "tensor([[ 154.4024, -482.8583,  -78.6048, -508.1241,   -5.6146,  148.7877,\n",
       "         -317.2267, -561.4631],\n",
       "        [-221.3019,  -88.5208, -503.8875, -105.5440, -241.7298,  309.8227,\n",
       "         -558.3618,  102.1394],\n",
       "        [ 271.0338,  485.2380, -594.5259, -214.2042,  174.8605, -262.2908,\n",
       "         -266.6624,  520.2101],\n",
       "        [-221.3110, -262.0788,  206.7510, -535.8055,  186.3671, -331.9664,\n",
       "         -174.7192, -524.1575],\n",
       "        [  54.5732, -214.8822, -573.0191, -136.4331, -279.6879, -528.6783,\n",
       "            0.0000,  296.7420],\n",
       "        [ 253.9891, -105.3126, -281.8660,  507.9782,  219.9174,  -65.0460,\n",
       "          405.7631,  393.3734],\n",
       "        [ 257.1069, -114.2697,  517.3879,  276.1518,  -44.4382, -190.4495,\n",
       "         -292.0226, -231.7136],\n",
       "        [-156.4120, -107.0187,  -57.6255,  282.6392,  482.9563,  -68.6017,\n",
       "           63.1136, -216.7815]])"
      ]
     },
     "execution_count": 243,
     "metadata": {},
     "output_type": "execute_result"
    }
   ],
   "source": [
    "de_q_z_0"
   ]
  },
  {
   "cell_type": "code",
   "execution_count": 244,
   "id": "0c377d9d",
   "metadata": {},
   "outputs": [
    {
     "data": {
      "text/plain": [
       "tensor([[ 154.2105, -482.2002,  -79.4163, -508.9303,   -4.4441,  149.4742,\n",
       "         -317.7845, -561.6549],\n",
       "        [-221.7251,  -88.2224, -503.3609, -104.2562, -240.0316,  310.2943,\n",
       "         -557.8901,  103.0481],\n",
       "        [ 269.2234,  486.2086, -595.6793, -214.0605,  175.6633, -261.4417,\n",
       "         -265.3140,  519.0568],\n",
       "        [-221.8787, -262.4482,  206.1024, -536.4542,  187.1391, -333.4087,\n",
       "         -174.4280, -522.8519],\n",
       "        [  55.0541, -213.7617, -572.4310, -136.1936, -280.6105, -527.6876,\n",
       "           -1.2765,  297.3302],\n",
       "        [ 253.6416, -104.5104, -280.5247,  509.3195,  221.0298,  -65.3526,\n",
       "          404.9150,  393.8723],\n",
       "        [ 256.5484, -113.7408,  515.9292,  274.7394,  -45.0438, -190.5334,\n",
       "         -293.4813, -231.4668],\n",
       "        [-156.9243, -106.2795,  -58.5516,  282.3469,  484.1919,  -69.6119,\n",
       "           62.9202, -215.5459]])"
      ]
     },
     "execution_count": 244,
     "metadata": {},
     "output_type": "execute_result"
    }
   ],
   "source": [
    "z"
   ]
  },
  {
   "cell_type": "code",
   "execution_count": 245,
   "id": "3617750c",
   "metadata": {},
   "outputs": [
    {
     "data": {
      "text/plain": [
       "tensor(0.8074)"
      ]
     },
     "execution_count": 245,
     "metadata": {},
     "output_type": "execute_result"
    },
    {
     "data": {
      "image/png": "[encoded data removed]",
      "text/plain": [
       "<Figure size 640x480 with 2 Axes>"
      ]
     },
     "metadata": {},
     "output_type": "display_data"
    }
   ],
   "source": [
    "import seaborn as sns\n",
    "import matplotlib.pyplot as plt\n",
    "sns.heatmap(abs(z-de_q_z_0),annot=True)\n",
    "plt.title(\"Axis = 0 quantization error\")\n",
    "err = torch.abs(z-de_q_z_0)\n",
    "torch.square(err).mean()"
   ]
  },
  {
   "cell_type": "markdown",
   "id": "828d598f",
   "metadata": {},
   "source": [
    "### dim 1"
   ]
  },
  {
   "cell_type": "code",
   "execution_count": 188,
   "id": "c37be244",
   "metadata": {},
   "outputs": [
    {
     "name": "stdout",
     "output_type": "stream",
     "text": [
      "21.798882\n"
     ]
    },
    {
     "name": "stderr",
     "output_type": "stream",
     "text": [
      "/var/folders/xw/knd54pd91c7cw57n21dntvx80000gn/T/ipykernel_24751/3746070839.py:10: UserWarning: To copy construct from a tensor, it is recommended to use sourceTensor.clone().detach() or sourceTensor.clone().detach().requires_grad_(True), rather than torch.tensor(sourceTensor).\n",
      "  scale = torch.tensor((r_max-r_min)/(q_max-q_min),dtype=tensor_dtype)\n"
     ]
    }
   ],
   "source": [
    "import numpy as np\n",
    "errs = []\n",
    "for i in range(1000):\n",
    "    dim_1 = 1\n",
    "    z = torch.randint(low=-600,high=600,size=(3,3)) + torch.randn((3,3))\n",
    "    q_z_1,scales_1,zeros_1 = per_channel_quant(z,dim_1,dtype=torch.int8)\n",
    "    de_q_z_1 = per_channel_de_quant(q_z_1,scales_1,zeros_1,dim_1)\n",
    "    err = torch.abs(z-de_q_z_1)\n",
    "    errs.append(err)\n",
    "print(np.mean(errs))"
   ]
  }
 ],
 "metadata": {
  "kernelspec": {
   "display_name": "Python 3 (ipykernel)",
   "language": "python",
   "name": "python3"
  },
  "language_info": {
   "codemirror_mode": {
    "name": "ipython",
    "version": 3
   },
   "file_extension": ".py",
   "mimetype": "text/x-python",
   "name": "python",
   "nbconvert_exporter": "python",
   "pygments_lexer": "ipython3",
   "version": "3.10.15"
  }
 },
 "nbformat": 4,
 "nbformat_minor": 5
}
